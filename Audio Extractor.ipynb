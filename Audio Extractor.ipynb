{
 "cells": [
  {
   "cell_type": "code",
   "execution_count": 1,
   "metadata": {},
   "outputs": [],
   "source": [
    "import json\n",
    "from pydub import AudioSegment\n",
    "from datetime import timedelta\n"
   ]
  },
  {
   "cell_type": "code",
   "execution_count": 2,
   "metadata": {},
   "outputs": [],
   "source": [
    "INPUT_FILE = './test.mp3'\n",
    "TRANSCRIPTION_DATA = './data/podcast__transcription_test_op_10.txt'\n",
    "sound = AudioSegment.from_mp3(\"./test.mp3\")\n"
   ]
  },
  {
   "cell_type": "code",
   "execution_count": 3,
   "metadata": {},
   "outputs": [],
   "source": [
    "def read_from_file(file_path, json=True):\n",
    "    with open(file_path, \"r\") as f:\n",
    "        val = f.read()\n",
    "        if json: \n",
    "            return json.loads(val)\n",
    "        else: \n",
    "            return val"
   ]
  },
  {
   "cell_type": "code",
   "execution_count": 4,
   "metadata": {},
   "outputs": [],
   "source": [
    "transcript_data = read_from_file(TRANSCRIPTION_DATA, json=False)\n",
    "transcript_data = transcript_data.split('\\n')\n"
   ]
  },
  {
   "cell_type": "code",
   "execution_count": 5,
   "metadata": {},
   "outputs": [],
   "source": [
    "split_transcript_data = []\n",
    "for i, item in enumerate(transcript_data): \n",
    "    split_data = item.split(\"-->\")\n",
    "    split_transcript_data.append(split_data)\n"
   ]
  },
  {
   "cell_type": "code",
   "execution_count": 6,
   "metadata": {},
   "outputs": [],
   "source": [
    "def get_ms(string): \n",
    "    string = string.replace(',', ':')\n",
    "    h, m, s, ms = map(float, string.split(':'))\n",
    "    res = timedelta(hours=h, minutes=m, seconds=s, milliseconds=ms).total_seconds() * 1000\n",
    "    return res"
   ]
  },
  {
   "cell_type": "code",
   "execution_count": 7,
   "metadata": {
    "scrolled": true
   },
   "outputs": [],
   "source": [
    "def slice_sound(start_ms, end_ms, sound_segments, filename='',  buffer = 0): \n",
    "    start_ms = start_ms - buffer\n",
    "    end_ms = end_ms + buffer\n",
    "    print(start_ms, end_ms)\n",
    "    \n",
    "    sliced_sound = sound[int(start_ms):int(end_ms)]\n",
    "    silence = AudioSegment.silent(duration=1500) # or be explicit\n",
    "    sound_segments.append(sliced_sound)\n",
    "    sound_segments.append(silence)\n"
   ]
  },
  {
   "cell_type": "code",
   "execution_count": 8,
   "metadata": {},
   "outputs": [
    {
     "name": "stdout",
     "output_type": "stream",
     "text": [
      "Getting Sounds from: 4160.0 - 12170.0\n",
      "3960.0 12370.0\n",
      "Getting Sounds from: 692400.0 - 697890.0\n",
      "692200.0 698090.0\n",
      "Getting Sounds from: 826240.0 - 827680.0\n",
      "826040.0 827880.0\n",
      "Getting Sounds from: 981875.0 - 995875.0\n",
      "981675.0 996075.0\n",
      "Getting Sounds from: 1403470.0 - 1406350.0\n",
      "1403270.0 1406550.0\n",
      "Getting Sounds from: 1812774.0 - 1815415.0\n",
      "1812574.0 1815615.0\n",
      "Getting Sounds from: 2162015.0 - 2166755.0\n",
      "2161815.0 2166955.0\n",
      "Getting Sounds from: 2216390.0 - 2219900.0\n",
      "2216190.0 2220100.0\n",
      "Getting Sounds from: 3364115.0 - 3377020.0\n",
      "3363915.0 3377220.0\n",
      "Getting Sounds from: 3705725.0 - 3710615.0\n",
      "3705525.0 3710815.0\n"
     ]
    }
   ],
   "source": [
    "sound_segments = []\n",
    "\n",
    "for item in split_transcript_data: \n",
    "    if len(item) == 3: \n",
    "        start_ms = get_ms(item[0])\n",
    "        end_ms = get_ms(item[1])\n",
    "        print(f\"Getting Sounds from: {start_ms} - {end_ms}\")\n",
    "        filename = item[0] + '-' + item[1] + '.mp3'\n",
    "        slice_sound(start_ms, end_ms, sound_segments, filename, buffer = 200)\n",
    "        \n"
   ]
  },
  {
   "cell_type": "code",
   "execution_count": 9,
   "metadata": {},
   "outputs": [],
   "source": [
    "newSound = None\n",
    "for sound in sound_segments:\n",
    "    if newSound is None: \n",
    "        newSound = AudioSegment.silent(duration=500)\n",
    "        newSound = newSound + sound\n",
    "    else: \n",
    "        newSound = newSound + sound"
   ]
  },
  {
   "cell_type": "code",
   "execution_count": 10,
   "metadata": {},
   "outputs": [],
   "source": [
    "newSound = AudioSegment.silent(duration=500) + newSound + AudioSegment.silent(duration=500)"
   ]
  },
  {
   "cell_type": "code",
   "execution_count": 11,
   "metadata": {},
   "outputs": [
    {
     "data": {
      "text/plain": [
       "<_io.BufferedRandom name='./output/final.mp3'>"
      ]
     },
     "execution_count": 11,
     "metadata": {},
     "output_type": "execute_result"
    }
   ],
   "source": [
    "newSound.export(f\"./output/final.mp3\", format=\"mp3\")"
   ]
  },
  {
   "cell_type": "code",
   "execution_count": null,
   "metadata": {},
   "outputs": [],
   "source": []
  }
 ],
 "metadata": {
  "kernelspec": {
   "display_name": "Python 3",
   "language": "python",
   "name": "python3"
  },
  "language_info": {
   "codemirror_mode": {
    "name": "ipython",
    "version": 3
   },
   "file_extension": ".py",
   "mimetype": "text/x-python",
   "name": "python",
   "nbconvert_exporter": "python",
   "pygments_lexer": "ipython3",
   "version": "3.6.10"
  }
 },
 "nbformat": 4,
 "nbformat_minor": 2
}
