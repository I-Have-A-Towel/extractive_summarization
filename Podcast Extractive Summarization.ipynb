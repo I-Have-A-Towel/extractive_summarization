{
 "cells": [
  {
   "cell_type": "markdown",
   "id": "little-shore",
   "metadata": {},
   "source": [
    "# EXTRACTIVE SUMMARIZATION"
   ]
  },
  {
   "cell_type": "markdown",
   "id": "registered-function",
   "metadata": {},
   "source": [
    "#### Dependencies\n",
    "\n",
    "* To avoid dependency issues, install the following versions\n",
    "\n",
    "Python = 3.6.9 <br>\n",
    "torch==1.7.0 <br> \n",
    "spacy==2.3.1 <br>\n",
    "bert-extractive-summarizer <br>"
   ]
  },
  {
   "cell_type": "code",
   "execution_count": 1,
   "id": "progressive-personality",
   "metadata": {},
   "outputs": [],
   "source": [
    "from summarizer import Summarizer"
   ]
  },
  {
   "cell_type": "markdown",
   "id": "electrical-powell",
   "metadata": {},
   "source": [
    "### Parsing SRT files"
   ]
  },
  {
   "cell_type": "code",
   "execution_count": 77,
   "id": "hearing-gardening",
   "metadata": {},
   "outputs": [],
   "source": [
    "def subtitle_to_textblob(subtitle_file):\n",
    "\n",
    "    input_text_list = list()\n",
    "    input_times_list = list()\n",
    "\n",
    "    count = 0\n",
    "    with open(subtitle_file, 'r') as fp:\n",
    "        input_lines = fp.readlines()\n",
    "        for line in input_lines:\n",
    "            line = line.strip()\n",
    "\n",
    "            # print('Count ', count)\n",
    "            if (line):\n",
    "                # Process line numbers\n",
    "                if (count == 0):\n",
    "                    count += 1\n",
    "                elif (count == 1):\n",
    "                    input_times_list.append(line)\n",
    "                    count += 1\n",
    "                elif (count == 2):\n",
    "                    input_text_list.append(line)\n",
    "                    count = 0\n",
    "    return input_text_list, input_times_list"
   ]
  },
  {
   "cell_type": "code",
   "execution_count": 78,
   "id": "vietnamese-antigua",
   "metadata": {},
   "outputs": [],
   "source": [
    "def extractive_summarization(input_text, num_sentences, debug=False):\n",
    "    output_text = model(input_text, num_sentences=num_sentences-1)\n",
    "    \n",
    "    if (debug):        \n",
    "        print('----------------- TOP',str(num_sentences),'SENTENCES -----------------')\n",
    "        print(output_text)\n",
    "        print('----------------------------------------------------')\n",
    "        \n",
    "    return output_text"
   ]
  },
  {
   "cell_type": "code",
   "execution_count": 79,
   "id": "continuing-canvas",
   "metadata": {},
   "outputs": [],
   "source": [
    "def extracted_text_to_output(output_text, output_file, time_delimiter):\n",
    "    \n",
    "    extracted_sentences = output_text.strip().split('.')\n",
    "\n",
    "    with open(op_file, 'w') as fp:\n",
    "\n",
    "        for sentence in extracted_sentences:\n",
    "\n",
    "            sentence = sentence.strip()\n",
    "\n",
    "            if (sentence):\n",
    "                search_list = list(sentence.split())\n",
    "\n",
    "                end_char_index = ip_text.find(sentence)\n",
    "                start_word_index = len(ip_text[:end_char_index].split())\n",
    "                end_word_index = start_word_index + len(search_list)-1\n",
    "\n",
    "                # print(start_word_index, end_word_index)\n",
    "\n",
    "                start_ip_time = ip_times[start_word_index].split(time_delimiter)[0].strip()\n",
    "                # print(start_ip_time)\n",
    "\n",
    "                end_ip_time = ip_times[end_word_index].split(time_delimiter)[1].strip()\n",
    "                # print(end_ip_time)\n",
    "\n",
    "                fp.write(start_ip_time+time_delimiter+end_ip_time+time_delimiter+sentence+'\\n')"
   ]
  },
  {
   "cell_type": "code",
   "execution_count": 82,
   "id": "smoking-death",
   "metadata": {},
   "outputs": [],
   "source": [
    "def extract(input_file, output_file, num_sentences):\n",
    "\n",
    "    try:\n",
    "        time_delimiter = '-->'\n",
    "\n",
    "        input_text_list, input_times_list = subtitle_to_textblob(input_file)\n",
    "\n",
    "        input_text = ' '.join(input_text_list)\n",
    "\n",
    "        output_text = extractive_summarization(input_text, num_sentences, True)\n",
    "\n",
    "        extracted_text_to_output(output_text, output_file, time_delimiter)\n",
    "    except:\n",
    "        print('Exception')"
   ]
  },
  {
   "cell_type": "code",
   "execution_count": 83,
   "id": "aware-feeling",
   "metadata": {},
   "outputs": [
    {
     "name": "stdout",
     "output_type": "stream",
     "text": [
      "----------------- TOP 10 SENTENCES -----------------\n",
      "Hey, John and Breton, uh, wanting to send over this screen cap to give you a glimpse into what I've been working on. So, uh, right here, this is kind of the, kind of more on earth on your side, type of like what we would set up a config to look like, uh, for the API we'd be building for the pre script build. And length would be the time that we have it on screen. Very clearly specified what they, uh, need to do, what they would like this thing to look like. Uh, work, uh, or you could see this scaling up, um, to more complicated templates. You can change to change the different colors and stuff. Uh, the final assets, uh, I'm duplicating all of these Lego blocks that we have here. This is all after effects work at this point. I don't think that should be too hard of a script to write. Um, so yeah, more to come, but let's, uh, love to hear your thoughts on all this.\n",
      "----------------------------------------------------\n"
     ]
    }
   ],
   "source": [
    "ip_file = 'AE_Shopify Walkthrough 1.srt'\n",
    "op_file = 'AE_Shopify Walkthrough 1_op.txt'\n",
    "num_sentences = 10\n",
    "\n",
    "extract(ip_file, op_file, num_sentences)"
   ]
  },
  {
   "cell_type": "code",
   "execution_count": null,
   "id": "adequate-colors",
   "metadata": {},
   "outputs": [],
   "source": []
  }
 ],
 "metadata": {
  "kernelspec": {
   "display_name": "podcast",
   "language": "python",
   "name": "podcast"
  },
  "language_info": {
   "codemirror_mode": {
    "name": "ipython",
    "version": 3
   },
   "file_extension": ".py",
   "mimetype": "text/x-python",
   "name": "python",
   "nbconvert_exporter": "python",
   "pygments_lexer": "ipython3",
   "version": "3.6.9"
  }
 },
 "nbformat": 4,
 "nbformat_minor": 5
}
