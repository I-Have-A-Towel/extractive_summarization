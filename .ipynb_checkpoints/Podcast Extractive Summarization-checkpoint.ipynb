{
 "cells": [
  {
   "cell_type": "markdown",
   "id": "emerging-apple",
   "metadata": {},
   "source": [
    "# EXTRACTIVE SUMMARIZATION"
   ]
  },
  {
   "cell_type": "markdown",
   "id": "green-pixel",
   "metadata": {},
   "source": [
    "#### Dependencies\n",
    "\n",
    "* To avoid dependency issues, install the following versions\n",
    "\n",
    "Python = 3.6.9 <br>\n",
    "torch==1.7.0 <br> \n",
    "spacy==2.3.1 <br>\n",
    "bert-extractive-summarizer <br>"
   ]
  },
  {
   "cell_type": "code",
   "execution_count": 54,
   "id": "progressive-personality",
   "metadata": {},
   "outputs": [],
   "source": [
    "from summarizer import Summarizer\n",
    "import traceback \n",
    "import re"
   ]
  },
  {
   "cell_type": "markdown",
   "id": "controlling-parameter",
   "metadata": {},
   "source": [
    "### Parsing SRT files"
   ]
  },
  {
   "cell_type": "code",
   "execution_count": 7,
   "id": "hearing-gardening",
   "metadata": {},
   "outputs": [],
   "source": [
    "def subtitle_to_textblob(subtitle_file):\n",
    "\n",
    "    input_text_list = list()\n",
    "    input_times_list = list()\n",
    "\n",
    "    count = 0\n",
    "    with open(subtitle_file, 'r') as fp:\n",
    "        input_lines = fp.readlines()\n",
    "        for line in input_lines:\n",
    "            line = line.strip()\n",
    "\n",
    "            # print('Count ', count)\n",
    "            if (line):\n",
    "                # Process line numbers\n",
    "                if (count == 0):\n",
    "                    count += 1\n",
    "                elif (count == 1):\n",
    "                    input_times_list.append(line)\n",
    "                    count += 1\n",
    "                elif (count == 2):\n",
    "                    input_text_list.append(line)\n",
    "                    count = 0\n",
    "    return input_text_list, input_times_list"
   ]
  },
  {
   "cell_type": "code",
   "execution_count": 8,
   "id": "lucky-plenty",
   "metadata": {},
   "outputs": [],
   "source": [
    "def extractive_summarization(input_text, num_sentences, debug=False):\n",
    "\n",
    "    model = Summarizer()\n",
    "    output_text = model(input_text, num_sentences=num_sentences-1)\n",
    "    \n",
    "    if (debug):        \n",
    "        print('----------------- TOP',str(num_sentences),'SENTENCES -----------------')\n",
    "        print(output_text)\n",
    "        print('----------------------------------------------------')\n",
    "        \n",
    "    return output_text"
   ]
  },
  {
   "cell_type": "code",
   "execution_count": 55,
   "id": "unknown-pakistan",
   "metadata": {},
   "outputs": [],
   "source": [
    "def extracted_text_to_output(input_text, output_text, output_file, input_times_list, time_delimiter):\n",
    "    \n",
    "    try:\n",
    "        extracted_sentences = re.split(r'[.!?\\n]\\s*',output_text.strip())\n",
    "        print('Size of times list: ', len(input_times_list))\n",
    "\n",
    "        with open(op_file, 'w') as fp:\n",
    "\n",
    "            for sentence in extracted_sentences:\n",
    "\n",
    "                sentence = sentence.strip()\n",
    "\n",
    "                if (sentence):\n",
    "\n",
    "                    # print(sentence)\n",
    "                    search_list = list(sentence.split())\n",
    "\n",
    "                    end_char_index = input_text.find(sentence)\n",
    "                    start_word_index = len(input_text[:end_char_index].split())\n",
    "                    end_word_index = start_word_index + len(search_list)-1\n",
    "                    \n",
    "                    # print(end_char_index, start_word_index, end_word_index)\n",
    "                    \n",
    "                    # print(start_word_index, end_word_index)\n",
    "\n",
    "                    start_ip_time = input_times_list[start_word_index].split(time_delimiter)[0].strip()\n",
    "                    # print(start_ip_time)\n",
    "\n",
    "                    end_ip_time = input_times_list[end_word_index].split(time_delimiter)[1].strip()\n",
    "                    # print(end_ip_time)\n",
    "\n",
    "                    fp.write(start_ip_time+time_delimiter+end_ip_time+time_delimiter+sentence+'\\n')\n",
    "    except:\n",
    "        print('Exception in extracted_text_to_output()')\n",
    "        traceback.print_exc()"
   ]
  },
  {
   "cell_type": "code",
   "execution_count": 39,
   "id": "cheap-liquid",
   "metadata": {},
   "outputs": [],
   "source": [
    "def extract_from_output_text(input_file, output_file, output_text_file, num_sentences):\n",
    "\n",
    "    try:\n",
    "        time_delimiter = '-->'\n",
    "\n",
    "        input_text_list, input_times_list = subtitle_to_textblob(input_file)\n",
    "\n",
    "        input_text = ' '.join(input_text_list)\n",
    "        # print(input_text)\n",
    "        output_text = ''\n",
    "        \n",
    "        with open(output_text_file, 'r') as fp:\n",
    "            output_text = fp.read()\n",
    "            \n",
    "        extracted_text_to_output(input_text, output_text, output_file, input_times_list, time_delimiter)\n",
    "        print('Output with timestamps written to ', output_file)\n",
    "            \n",
    "    except:\n",
    "        print('Exception in extract()')\n",
    "        traceback.print_exc()"
   ]
  },
  {
   "cell_type": "code",
   "execution_count": 58,
   "id": "architectural-constitution",
   "metadata": {},
   "outputs": [
    {
     "name": "stdout",
     "output_type": "stream",
     "text": [
      "Size of times list:  17425\n",
      "At some point, we tried to raise more money and you know, the investor was like the entire natural deodorant industry is something like $30 million a year\n",
      "0 0 27\n",
      "0 27\n",
      "00:00:04,160\n",
      "00:00:12,170\n",
      "Aluminum is probably the largest thing that we're like, people are concerned about when it comes to the deodorant category\n",
      "4825 926 945\n",
      "926 945\n",
      "00:04:14,019\n",
      "00:04:19,360\n",
      "I really liked what it stood for, which was like, we want to use ingredients that were like native to the earth\n",
      "7211 1393 1414\n",
      "1393 1414\n",
      "00:06:08,594\n",
      "00:06:13,635\n",
      "And this was in 2015, you know, like today there's a new, natural theater at the lunches every day in 2015\n",
      "14349 2739 2759\n",
      "2739 2759\n",
      "00:11:32,400\n",
      "00:11:37,890\n",
      "And she's like, we're going to scale this business\n",
      "17030 3241 3249\n",
      "3241 3249\n",
      "00:13:46,240\n",
      "00:13:47,680\n",
      "I don't really want to be making these deodorants in my apartment\n",
      "17720 3375 3386\n",
      "3375 3386\n",
      "00:14:18,814\n",
      "00:14:21,095\n",
      "And the meantime I'm like Googling and I'm like, okay, Who makes deodorants, like I've got a formula I want to make\n",
      "18700 3564 3585\n",
      "3564 3585\n",
      "00:15:02,105\n",
      "00:15:07,415\n",
      "It sounds like it really paid off that you weren't just using a Chinese manufacturer\n",
      "29738 5653 5667\n",
      "5653 5667\n",
      "00:23:23,470\n",
      "00:23:26,350\n",
      "And what does that mean for a deodorant business\n",
      "40385 7644 7652\n",
      "7644 7652\n",
      "00:31:15,475\n",
      "00:31:17,514\n",
      "Sir, we hired another person, a third, uh, the third person to join the team and he's doing customer service\n",
      "46498 8794 8813\n",
      "8794 8813\n",
      "00:36:02,015\n",
      "00:36:06,755\n",
      "And you know, I have no idea what our business will look like a year from now\n",
      "47705 9021 9037\n",
      "9021 9037\n",
      "00:36:56,390\n",
      "00:36:59,900\n",
      "Amazon has this phrase, you know, customer obsessed is what Jeff Bezos says\n",
      "52940 10030 10042\n",
      "10030 10042\n",
      "00:41:02,674\n",
      "00:41:06,605\n",
      "And so I tweeted it and I was like, If you're wondering when I decided to destroy your business, it was when you sent me this letter, like before I was like, you know, you guys are a Nat, uh, and I don't care about your tiny business and I'll let you exist\n",
      "72997 13865 13917\n",
      "13865 13917\n",
      "00:56:04,115\n",
      "00:56:17,020\n",
      "I'm gonna go back to them and show them this deal\n",
      "82781 15731 15741\n",
      "15731 15741\n",
      "01:03:23,065\n",
      "01:03:24,715\n",
      "I would say, look, look e-commerce is amazing\n",
      "88212 16798 16805\n",
      "16798 16805\n",
      "01:07:25,980\n",
      "01:07:28,350\n",
      "Output with timestamps written to  data/podcast__transcription_test_op_15.txt\n"
     ]
    }
   ],
   "source": [
    "num_sentences_list = [15]\n",
    "input_file = 'data/podcast__transcription_test.srt'\n",
    "\n",
    "for num_sentences in num_sentences_list:\n",
    "    output_text_file = input_file.split('.')[0] + '_optext_' + str(num_sentences) + '.txt'\n",
    "    output_file = input_file.split('.')[0] + '_op_' + str(num_sentences) + '.txt'\n",
    "    \n",
    "    extract_from_output_text(input_file, output_file, output_text_file, num_sentences)"
   ]
  },
  {
   "cell_type": "code",
   "execution_count": 18,
   "id": "foster-sending",
   "metadata": {},
   "outputs": [],
   "source": [
    "def extract_from_srt(input_file, output_file, num_sentences):\n",
    "\n",
    "    try:\n",
    "        time_delimiter = '-->'\n",
    "\n",
    "        input_text_list, input_times_list = subtitle_to_textblob(input_file)\n",
    "\n",
    "        input_text = ' '.join(input_text_list)\n",
    "\n",
    "        \n",
    "\n",
    "        output_text = extractive_summarization(input_text, num_sentences, True)\n",
    "        \n",
    "        with open(output_file, 'w') as fp:\n",
    "            fp.write(output_text)\n",
    "        \n",
    "        extracted_text_to_output(input_text, output_text, output_file, input_times_list, time_delimiter)\n",
    "    except:\n",
    "        print('Exception in extract()')\n",
    "        traceback.print_exc()"
   ]
  },
  {
   "cell_type": "code",
   "execution_count": 19,
   "id": "interstate-stress",
   "metadata": {},
   "outputs": [
    {
     "data": {
      "text/plain": [
       "\"\\nip_file = 'data/AE_Shopify Walkthrough 1.srt'\\nop_file = 'data/AE_Shopify Walkthrough 1_op.txt'\\nnum_sentences = 10\\n\\nextract(ip_file, op_file, num_sentences)\\n\""
      ]
     },
     "execution_count": 19,
     "metadata": {},
     "output_type": "execute_result"
    }
   ],
   "source": [
    "'''\n",
    "ip_file = 'data/AE_Shopify Walkthrough 1.srt'\n",
    "op_file = 'data/AE_Shopify Walkthrough 1_op.txt'\n",
    "num_sentences = 10\n",
    "\n",
    "extract(ip_file, op_file, num_sentences)\n",
    "'''"
   ]
  },
  {
   "cell_type": "code",
   "execution_count": 13,
   "id": "cathedral-surfing",
   "metadata": {},
   "outputs": [
    {
     "name": "stdout",
     "output_type": "stream",
     "text": [
      "START --- data/podcast__transcription_test_op_5.txt\n",
      "----------------- TOP 5 SENTENCES -----------------\n",
      "At some point, we tried to raise more money and you know, the investor was like the entire natural deodorant industry is something like $30 million a year. If you're thinking about starting an idea, A business or you are, you want to do that someday, or you're doing it right now, either way, listening to speakers, tell their stories, being in the audience, amongst a bunch of other like-minded people that is a really, really good way to get amongst it. And so I tweeted it and I was like, If you're wondering when I decided to destroy your business, it was when you sent me this letter, like before I was like, you know, you guys are a Nat, uh, and I don't care about your tiny business and I'll let you exist. And it's hard, like, you know, for us, we had a great safety net of like a success already or like momentum. Like, you know, we have this contest internally to make another email funny and very human.\n",
      "----------------------------------------------------\n",
      "END --- data/podcast__transcription_test_op_5.txto make another email funny and very human or like momentumn you sent me this letter, like before I was like, you know, you guys are a Nat, uh, and I don't care about your tiny business and I'll let you exist really, really good way to get amongst it\n"
     ]
    }
   ],
   "source": [
    "num_sentences_list = [5]\n",
    "\n",
    "ip_file = 'data/podcast__transcription_test.srt'\n",
    "\n",
    "for num_sentences in num_sentences_list:\n",
    "    \n",
    "    op_file = ip_file.split('.')[0] + '_optext_' + str(num_sentences) + '.txt'\n",
    "    \n",
    "    extract(ip_file, op_file, num_sentences)\n",
    "\n",
    "for num_sentences in num_sentences_list:\n",
    "    \n",
    "    ip_textfile = ip_file.split('.')[0] + '_optext_' + str(num_sentences) + '.txt'\n",
    "    with open(ip_textfile, 'r') as fp:\n",
    "        output_text = fp.read()\n",
    "\n",
    "    op_file = ip_file.split('.')[0] + '_op_' + str(num_sentences) + '.txt'\n",
    "    extracted_text_to_output(input_text, output_text, output_file, input_times_list, time_delimiter)"
   ]
  },
  {
   "cell_type": "code",
   "execution_count": 15,
   "id": "fifty-humor",
   "metadata": {},
   "outputs": [
    {
     "name": "stdout",
     "output_type": "stream",
     "text": [
      "----------------- TOP 10 SENTENCES -----------------\n",
      "At some point, we tried to raise more money and you know, the investor was like the entire natural deodorant industry is something like $30 million a year. And this was in 2015, you know, like today there's a new, natural theater at the lunches every day in 2015. And she's like, we're going to scale this business. If you're thinking about starting an idea, A business or you are, you want to do that someday, or you're doing it right now, either way, listening to speakers, tell their stories, being in the audience, amongst a bunch of other like-minded people that is a really, really good way to get amongst it. It sounds like it really paid off that you weren't just using a Chinese manufacturer. You know, they hear you say we're only at a hundred thousand a month in revenue. Sir, we hired another person, a third, uh, the third person to join the team and he's doing customer service. And you know, I have no idea what our business will look like a year from now. And so I tweeted it and I was like, If you're wondering when I decided to destroy your business, it was when you sent me this letter, like before I was like, you know, you guys are a Nat, uh, and I don't care about your tiny business and I'll let you exist. And it's hard, like, you know, for us, we had a great safety net of like a success already or like momentum.\n",
      "----------------------------------------------------\n",
      "----------------- TOP 15 SENTENCES -----------------\n",
      "At some point, we tried to raise more money and you know, the investor was like the entire natural deodorant industry is something like $30 million a year. Aluminum is probably the largest thing that we're like, people are concerned about when it comes to the deodorant category. I really liked what it stood for, which was like, we want to use ingredients that were like native to the earth. And this was in 2015, you know, like today there's a new, natural theater at the lunches every day in 2015. And she's like, we're going to scale this business. I don't really want to be making these deodorants in my apartment. And the meantime I'm like Googling and I'm like, okay, Who makes deodorants, like I've got a formula I want to make. It sounds like it really paid off that you weren't just using a Chinese manufacturer. And what does that mean for a deodorant business? Sir, we hired another person, a third, uh, the third person to join the team and he's doing customer service. And you know, I have no idea what our business will look like a year from now. Amazon has this phrase, you know, customer obsessed is what Jeff Bezos says. And so I tweeted it and I was like, If you're wondering when I decided to destroy your business, it was when you sent me this letter, like before I was like, you know, you guys are a Nat, uh, and I don't care about your tiny business and I'll let you exist. I'm gonna go back to them and show them this deal. I would say, look, look e-commerce is amazing.\n",
      "----------------------------------------------------\n",
      "Exception in extracted_text_to_output()\n"
     ]
    },
    {
     "name": "stderr",
     "output_type": "stream",
     "text": [
      "Traceback (most recent call last):\n",
      "  File \"<ipython-input-14-9ba77870bbc0>\", line 23, in extracted_text_to_output\n",
      "    start_ip_time = input_times_list[start_word_index].split(time_delimiter)[0].strip()\n",
      "IndexError: list index out of range\n"
     ]
    },
    {
     "name": "stdout",
     "output_type": "stream",
     "text": [
      "----------------- TOP 20 SENTENCES -----------------\n",
      "At some point, we tried to raise more money and you know, the investor was like the entire natural deodorant industry is something like $30 million a year. And so that, that was like the Genesis of like, okay, look, we think we can create a deodorant that does the job of an, a. Antiperspirant the other way I thought about it was look like a lot of us work in office environments, where we commute in a car, we get to an office, we sit at a desk and work at a computer and, you know, using an antiperspirant everyday. I put it on product hunt, product hunt has multiple pages. And this was in 2015, you know, like today there's a new, natural theater at the lunches every day in 2015. I want to have another meeting because I think there's a problem with the deodorants. It sounds like it really paid off that you weren't just using a Chinese manufacturer. But we're doing like tiny changes, like, you know, like changes that wouldn't even influence the ingredient tackle that we're like, Hey look, do you think we should put in, you know, Uh, 1% of this ingredient or 1.05% of this to see what's better. Just me at the company I'm doing with customer service have a really good idea of what the problems are at the company doing the operation. You know, they hear you say we're only at a hundred thousand a month in revenue. I would want to maximize these sort of earnings per capita in my company. And you know, I have no idea what our business will look like a year from now. So obviously the product is getting better, but is it just, is it just like that it's a million little things getting better or was there a breakthrough or a. Point of emphasis that really was highlighted. And we're just like, I think this is a product that people want and need. Amazon has this phrase, you know, customer obsessed is what Jeff Bezos says. Look, you know, there are, there are times where I'm like, okay, look the month, a month closes. And I'm just like, we generated, you know, 4 million in revenue this year, this month add another zero to that price buddy, add two more zeros. And so I tweeted it and I was like, If you're wondering when I decided to destroy your business, it was when you sent me this letter, like before I was like, you know, you guys are a Nat, uh, and I don't care about your tiny business and I'll let you exist. Like, you know, we have this contest internally to make another email funny and very human. I have no idea how they were motivated to do that and they're that way. If you were 21 today, starting from scratch.\n",
      "----------------------------------------------------\n",
      "----------------- TOP 25 SENTENCES -----------------\n",
      "At some point, we tried to raise more money and you know, the investor was like the entire natural deodorant industry is something like $30 million a year. Aluminum is probably the largest thing that we're like, people are concerned about when it comes to the deodorant category. And so that, that was like the Genesis of like, okay, look, we think we can create a deodorant that does the job of an, a. Antiperspirant the other way I thought about it was look like a lot of us work in office environments, where we commute in a car, we get to an office, we sit at a desk and work at a computer and, you know, using an antiperspirant everyday. And this was in 2015, you know, like today there's a new, natural theater at the lunches every day in 2015. And she's like, we're going to scale this business. I've been two or three times to hustle con it's a conference it's happening December 2nd and third in Oakland, they rent out the paramount theater, which is really amazing venue. Let me give this to you guys so that you can get a discount. I rent a Zipcar and I go over there and I'm just looking at our deodorants. And so like, all of this is just like works out randomly. Is it any better than like, you know, the formula that you actually paid for? And in the next six months, I will be an expert on deodorant. We're getting into the weeds as much as possible. I would want to maximize these sort of earnings per capita in my company. And so we're like, you know, we've got some cash, but not a ton of cash. So we've basically doubled the business between may and June. And you know, I have no idea what our business will look like a year from now. Tell you, Hey, repeat purchase rate is the thing to key in on, I think for like, uh, it depends on the product you're in. But also right when you sign up, you get a funny email from you guys, like talk about some of the things you guys have done on the customer service or customer obsessed side. Look, you know, there are, there are times where I'm like, okay, look the month, a month closes. And we were like negotiating with the person who owned the Mark simultaneously. And so I tweeted it and I was like, If you're wondering when I decided to destroy your business, it was when you sent me this letter, like before I was like, you know, you guys are a Nat, uh, and I don't care about your tiny business and I'll let you exist. Where did that strategy or mindset come from? This brand is not going to have any legs and no one's going to care without influencer advertising. Like, you know, we have this contest internally to make another email funny and very human. I would say, look, look e-commerce is amazing.\n",
      "----------------------------------------------------\n",
      "Exception in extracted_text_to_output()\n"
     ]
    },
    {
     "name": "stderr",
     "output_type": "stream",
     "text": [
      "Traceback (most recent call last):\n",
      "  File \"<ipython-input-14-9ba77870bbc0>\", line 23, in extracted_text_to_output\n",
      "    start_ip_time = input_times_list[start_word_index].split(time_delimiter)[0].strip()\n",
      "IndexError: list index out of range\n"
     ]
    },
    {
     "name": "stdout",
     "output_type": "stream",
     "text": [
      "----------------- TOP 30 SENTENCES -----------------\n",
      "At some point, we tried to raise more money and you know, the investor was like the entire natural deodorant industry is something like $30 million a year. So why would anyone be interested in investing in a category that only has $30 million a year run rates? And the tactics that he shared are actually quite insightful. And so that, that was like the Genesis of like, okay, look, we think we can create a deodorant that does the job of an, a. Antiperspirant the other way I thought about it was look like a lot of us work in office environments, where we commute in a car, we get to an office, we sit at a desk and work at a computer and, you know, using an antiperspirant everyday. And so we're shipping these boxes out, we shipped 60 out and then sales start dropping because you know, we're off the product hunt and I'm like, okay. And this was in 2015, you know, like today there's a new, natural theater at the lunches every day in 2015. I used to be selling products at a farmer's market, and now I'm making 500 dealers for you a week. And she's like, we're going to scale this business. Two days later, she calls me and she's like, my son is sick. I don't really want to be making these deodorants in my apartment. In fact, I'm bringing out the editor of this podcast to come because I just think it's a really great opportunity. I rent a Zipcar and I go over there and I'm just looking at our deodorants. But we're doing like tiny changes, like, you know, like changes that wouldn't even influence the ingredient tackle that we're like, Hey look, do you think we should put in, you know, Uh, 1% of this ingredient or 1.05% of this to see what's better. We're not setting up any more of these deodorants that are lotion. Uh, I was not, uh, you know, in Silicon Valley, there's a lot of people that whole thing to do is say, I'm here to change the world. And so we're like, you know, we've got some cash, but not a ton of cash. Amazon has this phrase, you know, customer obsessed is what Jeff Bezos says. And I think that it was also just like, uh, you know, th they have their own business and they're like, you know, maybe this is too small, we're a billion dollar business. And so one of the things that we sell is like the sizzle, right? Look, you know, there are, there are times where I'm like, okay, look the month, a month closes. And I'm just like, we generated, you know, 4 million in revenue this year, this month add another zero to that price buddy, add two more zeros. And two, I remember one guy who, who was like the CEO of the company was like, you know, trying to judge my marketing ability. And so I tweeted it and I was like, If you're wondering when I decided to destroy your business, it was when you sent me this letter, like before I was like, you know, you guys are a Nat, uh, and I don't care about your tiny business and I'll let you exist. Why did the first acquire or not end up buying you? They were like, you know, they came out to San Francisco. This is how we're thinking about the business. So people PR so you can prove this as a repeatable model. Like, you know, we have this contest internally to make another email funny and very human. I would say, look, look e-commerce is amazing. I don't have a direct line of communication with people who use my product every day.\n",
      "----------------------------------------------------\n",
      "Exception in extracted_text_to_output()\n"
     ]
    },
    {
     "name": "stderr",
     "output_type": "stream",
     "text": [
      "Traceback (most recent call last):\n",
      "  File \"<ipython-input-14-9ba77870bbc0>\", line 23, in extracted_text_to_output\n",
      "    start_ip_time = input_times_list[start_word_index].split(time_delimiter)[0].strip()\n",
      "IndexError: list index out of range\n"
     ]
    },
    {
     "name": "stdout",
     "output_type": "stream",
     "text": [
      "----------------- TOP 35 SENTENCES -----------------\n",
      "At some point, we tried to raise more money and you know, the investor was like the entire natural deodorant industry is something like $30 million a year. So why would anyone be interested in investing in a category that only has $30 million a year run rates? Aluminum is probably the largest thing that we're like, people are concerned about when it comes to the deodorant category. And so that, that was like the Genesis of like, okay, look, we think we can create a deodorant that does the job of an, a. Antiperspirant the other way I thought about it was look like a lot of us work in office environments, where we commute in a car, we get to an office, we sit at a desk and work at a computer and, you know, using an antiperspirant everyday. Uh, so we launched the company in July, 2015. We get one sale and I'm like, okay, this business is over. And so he said that he said, told a story on the podcast, which was that at some point you guys were like ordering deodorants off Etsy and you're just testing deodorants. And this was in 2015, you know, like today there's a new, natural theater at the lunches every day in 2015. Do you still get hands-on with the Facebook ads? And she's like, we're going to scale this business. Let me give this to you guys so that you can get a discount. I rent a Zipcar and I go over there and I'm just looking at our deodorants. And I'm like, okay, well maybe this business is over again. I've got something that's working for me. Over the course of the last eight months since this, or like last four months, since this woman had been making deodorant for me, like we'd gotten a lot of customer feedback basically saying our formula was kind of mediocre. It sounds like it really paid off that you weren't just using a Chinese manufacturer. I was like, this is version seven of the deodorant. We email all the customers and we're like, Hey, look, your product was supposed to ship out today. You know, they hear you say we're only at a hundred thousand a month in revenue. We sold that business for a seven figure sum. I guess really what happened is by the time people started asking that question, I was like, I was like, we're doing a million dollars a month. But also right when you sign up, you get a funny email from you guys, like talk about some of the things you guys have done on the customer service or customer obsessed side. Yeah, I'm not sure if they have the roses or I have the roses. So we're out or we drop our price by half and then push comes to shove and P and G hasn't done a deal in like 10 years. Look, you know, there are, there are times where I'm like, okay, look the month, a month closes. So there's a bunch of them, some guy like the guys who were most interested in the business, ended up dropping out in the, uh, during the, during the acquisition conversations. And the music companies knew, Hey, these guys are about to sell. Cause like, uh, I never felt it wasn't a, we with my investors, like they were all like super happy and super excited about getting the deal done. And so I tweeted it and I was like, If you're wondering when I decided to destroy your business, it was when you sent me this letter, like before I was like, you know, you guys are a Nat, uh, and I don't care about your tiny business and I'll let you exist. And we haven't even been there for 52 weeks. I'm like, I know what's working in my company. We'd go to this like Thai restaurant for dinner, which is really fun, but like, what's shocking is like how little life has changed. I would say, look, look e-commerce is amazing. Like, you know, I love when people have gotten skin in the game. This, this is what I like to do on the weekends.\n",
      "----------------------------------------------------\n",
      "Exception in extracted_text_to_output()\n"
     ]
    },
    {
     "name": "stderr",
     "output_type": "stream",
     "text": [
      "Traceback (most recent call last):\n",
      "  File \"<ipython-input-14-9ba77870bbc0>\", line 23, in extracted_text_to_output\n",
      "    start_ip_time = input_times_list[start_word_index].split(time_delimiter)[0].strip()\n",
      "IndexError: list index out of range\n"
     ]
    },
    {
     "name": "stdout",
     "output_type": "stream",
     "text": [
      "----------------- TOP 40 SENTENCES -----------------\n",
      "At some point, we tried to raise more money and you know, the investor was like the entire natural deodorant industry is something like $30 million a year. You build a deodorant brand of all things. And so that, that was like the Genesis of like, okay, look, we think we can create a deodorant that does the job of an, a. Antiperspirant the other way I thought about it was look like a lot of us work in office environments, where we commute in a car, we get to an office, we sit at a desk and work at a computer and, you know, using an antiperspirant everyday. I really liked what it stood for, which was like, we want to use ingredients that were like native to the earth. And I was just like, look, these products, aren't cutting it. I get a bunch of crinkle paper delivered to the house with wonderful is my brother is the messiest. And this was in 2015, you know, like today there's a new, natural theater at the lunches every day in 2015. She'd be like, go quit this business tomorrow. Do you still get hands-on with the Facebook ads? And the meantime I'm like Googling and I'm like, okay, Who makes deodorants, like I've got a formula I want to make. And so like, you know, we launched like, you know, in July, 2015, we were doing a couple hundred dollars in revenue a month by January, 2016. And so, you know, look what had been happening is that okay. Solomon's like, you're running the washer and dryer every day. It sounds like it really paid off that you weren't just using a Chinese manufacturer. I don't know what quality control looks like over there. We didn't want any of that kind of stuff. If you buy directly from us, we were following up with every customer. We're getting into the weeds as much as possible. Just me at the company I'm doing with customer service have a really good idea of what the problems are at the company doing the operation. Was it, you know, were you already doing well financially? Sir, we hired another person, a third, uh, the third person to join the team and he's doing customer service. Business to grow from that a hundred K a month to a million a month. We're spending more on ads because we understand product market fit. Otherwise we're going to lose money on every single order. And we're just like, I think this is a product that people want and need. Look, you know, there are, there are times where I'm like, okay, look the month, a month closes. You know, they're just like, uh, so, so you're up at 2:00 AM preparing these things for them. But in reality, we had a trademark issue until we sold the business. These guys are not going to go away unless we do this. And so I tweeted it and I was like, If you're wondering when I decided to destroy your business, it was when you sent me this letter, like before I was like, you know, you guys are a Nat, uh, and I don't care about your tiny business and I'll let you exist. You come after Ross, we're building this wall 10 feet higher. Like competitiveness with him or I think it came from him. So one, I think one of the issues with these types of companies is always about like, or w what the deal is like deal certainty. And we haven't even been there for 52 weeks. And then you're like, this was a great deodorant. I'm like, I know what's working in my company. And like one of the things I realized afterwards, cause you know, all these people are like, Oh, being ready, which is not that great. Like, you know, we have this contest internally to make another email funny and very human. I would say, look, look e-commerce is amazing. This, this is what I like to do on the weekends.\n",
      "----------------------------------------------------\n",
      "Exception in extracted_text_to_output()\n"
     ]
    },
    {
     "name": "stderr",
     "output_type": "stream",
     "text": [
      "Traceback (most recent call last):\n",
      "  File \"<ipython-input-14-9ba77870bbc0>\", line 23, in extracted_text_to_output\n",
      "    start_ip_time = input_times_list[start_word_index].split(time_delimiter)[0].strip()\n",
      "IndexError: list index out of range\n"
     ]
    },
    {
     "name": "stdout",
     "output_type": "stream",
     "text": [
      "----------------- TOP 45 SENTENCES -----------------\n",
      "At some point, we tried to raise more money and you know, the investor was like the entire natural deodorant industry is something like $30 million a year. And the tactics that he shared are actually quite insightful. And so that's really where the problem starts. Aluminum is probably the largest thing that we're like, people are concerned about when it comes to the deodorant category. And so that, that was like the Genesis of like, okay, look, we think we can create a deodorant that does the job of an, a. Antiperspirant the other way I thought about it was look like a lot of us work in office environments, where we commute in a car, we get to an office, we sit at a desk and work at a computer and, you know, using an antiperspirant everyday. Cause I don't think that that's necessarily the case. I'm not sure if it's my personal body chemistry or what it is, but yeah, w we were testing natural deodorants left and right from Etsy. I get a bunch of crinkle paper delivered to the house with wonderful is my brother is the messiest. And so we're shipping these boxes out, we shipped 60 out and then sales start dropping because you know, we're off the product hunt and I'm like, okay. And this was in 2015, you know, like today there's a new, natural theater at the lunches every day in 2015. And she's like, we're going to scale this business. So when I went under, we work was talking at the, let me look at the list for this year, hymns, the founder of Madison Reed, Strava calm method, and Ali lime, a bunch of CEOs and founders of multi-billion dollar companies and startups that come on stage and share insights about how they did what they did, how they got started and how SoCon is very different than a normal conference. If you're thinking about starting an idea, A business or you are, you want to do that someday, or you're doing it right now, either way, listening to speakers, tell their stories, being in the audience, amongst a bunch of other like-minded people that is a really, really good way to get amongst it. I don't have to mortgage my house based on this. I rent a Zipcar and I go over there and I'm just looking at our deodorants. I've got something that's working for me. So how are you even figuring out the formula? They're blah, like, you know, you don't know what's in then. We're not setting up any more of these deodorants that are lotion. Was it, you know, were you already doing well financially? And what does that mean for a deodorant business? And so we're like, you know, we've got some cash, but not a ton of cash. So you're saying Saturday, Saturdays is customer service day. And you know, I have no idea what our business will look like a year from now. So obviously the product is getting better, but is it just, is it just like that it's a million little things getting better or was there a breakthrough or a. Point of emphasis that really was highlighted. Taking a shot every time you say customer service, they're dead. Now you're doing a million dollars a month. And I was like, No, uh, I'm not going through this again. Yeah, I'm not sure if they have the roses or I have the roses. Look, you know, there are, there are times where I'm like, okay, look the month, a month closes. And I'm just like, we generated, you know, 4 million in revenue this year, this month add another zero to that price buddy, add two more zeros. And I was like, the board is going to go through emails because even I barely like, I mean, I look at that, but I don't look at that on like a quarterly basis. And there's like a bunch of these acquirers. And there are these key moments that are just happening over a coffee or on the phone or whatever. But like, you know, do what you gotta do, but you could have had the opera, you had the opportunity for years. And so I tweeted it and I was like, If you're wondering when I decided to destroy your business, it was when you sent me this letter, like before I was like, you know, you guys are a Nat, uh, and I don't care about your tiny business and I'll let you exist. I think he just does a better job of like hiding it. But if he's got it himself, for sure, I love it. And they're like, this is how it's going to be post acquisition. You didn't know anything about deodorant, you went in with basically no money, no staff, no nothing. Anyway, we closed the deal, you know, money hits the bank. And I was like, you know, if a bus hits me on the way to work, I'm still going to get to work. Like, you know, we have this contest internally to make another email funny and very human. I would say, look, look e-commerce is amazing. If you chose that category is, do not disconnect yourself with the consumer.\n",
      "----------------------------------------------------\n",
      "Exception in extracted_text_to_output()\n"
     ]
    },
    {
     "name": "stderr",
     "output_type": "stream",
     "text": [
      "Traceback (most recent call last):\n",
      "  File \"<ipython-input-14-9ba77870bbc0>\", line 23, in extracted_text_to_output\n",
      "    start_ip_time = input_times_list[start_word_index].split(time_delimiter)[0].strip()\n",
      "IndexError: list index out of range\n"
     ]
    },
    {
     "name": "stdout",
     "output_type": "stream",
     "text": [
      "----------------- TOP 50 SENTENCES -----------------\n",
      "At some point, we tried to raise more money and you know, the investor was like the entire natural deodorant industry is something like $30 million a year. He is the founder of native deodorant, which is a natural deodorant brand. And it'll be on my body for 23 hours and 45 minutes for the next 60 years, I should at least be able to pronounce some of the ingredients in this thing. I really liked what it stood for, which was like, we want to use ingredients that were like native to the earth. We get one sale and I'm like, okay, this business is over. And what was the little tagline at that time? I get a bunch of crinkle paper delivered to the house with wonderful is my brother is the messiest. And this was in 2015, you know, like today there's a new, natural theater at the lunches every day in 2015. We're basically one of the few guys out there. I used to be selling products at a farmer's market, and now I'm making 500 dealers for you a week. Quick break in the action to talk about hustle con. You know, you see a lot of people in suits. That'll give you 50 bucks a ticket to hustle con. I'm not going to like, uh, you know, bankrupt the business. I don't have to mortgage my house based on this. I rent a Zipcar and I go over there and I'm just looking at our deodorants. And I'd been sending out samples to people and saying like, you know, our best customers who are like communicating with me and I'd be like, Hey, what do you think of this formula? So we switched formula basically because we have to, we think it's supposed to be better. I was the only employee and I wasn't taking a salary, but I'd say on a hundred thousand dollars in business, I'm guessing. And so we're like, you know, we've got some cash, but not a ton of cash. One was super busy trying to run the business. And so I was like, I don't know how long we're going to be able to afford this person. Are you like, uh, I work 18 hours a day kind of guy or. You were the whole office and Toby being like, yeah, that's a terrible company days at the beginning, we get to June, we've got to hire, repeat per like, you know, we've got, Oh, we've got a higher repeat purchase rate, better reviews, you know, in June of 2016. And you know, I have no idea what our business will look like a year from now. And we're just like, I think this is a product that people want and need. Amazon has this phrase, you know, customer obsessed is what Jeff Bezos says. But also right when you sign up, you get a funny email from you guys, like talk about some of the things you guys have done on the customer service or customer obsessed side. I went out to meet with them and you know, they're like, okay, great. This is the first acquisition they're making in 10 years. Like I know how, you know, Unilever operates and I know how these private equity firms operate, but P and G nobody's seen them in the world in 10 years, Agra, just to do a deal like this. And I was like, the board is going to go through emails because even I barely like, I mean, I look at that, but I don't look at that on like a quarterly basis. This was a serious apart like that delayed the transaction with everybody. And we were like negotiating with the person who owned the Mark simultaneously. I'll give you an example right now, this company called, they said no to us. And so I tweeted it and I was like, If you're wondering when I decided to destroy your business, it was when you sent me this letter, like before I was like, you know, you guys are a Nat, uh, and I don't care about your tiny business and I'll let you exist. And as soon as we bought the trademark, I basically knew the deal was going to, I mean, there was only five more days, but I knew the deal was going to close since then, you know, we've grown the business a ton. And we haven't even been there for 52 weeks. And so like give your advice to somebody else. And it's hard, like, you know, for us, we had a great safety net of like a success already or like momentum. And so it's it's if you don't have that, Trust your gut. And so, uh, you know, I tell him, uh, you know, I need you to sign these docs in the next 24 hours. Like the journey of like friendships I made with all the employees that I have and like a bunch of like most of the team is still there. And I was like, you know, if a bus hits me on the way to work, I'm still going to get to work. And like, that's definitely something I do. And I'm less worried about the cost of airfare. If you were 21 today, starting from scratch. And I think that it can be answered in a bunch of different ways. I would say, look, look e-commerce is amazing. I'm like, look, if you're thinking about doing this, quit your job.\n",
      "----------------------------------------------------\n",
      "Exception in extracted_text_to_output()\n"
     ]
    },
    {
     "name": "stderr",
     "output_type": "stream",
     "text": [
      "Traceback (most recent call last):\n",
      "  File \"<ipython-input-14-9ba77870bbc0>\", line 23, in extracted_text_to_output\n",
      "    start_ip_time = input_times_list[start_word_index].split(time_delimiter)[0].strip()\n",
      "IndexError: list index out of range\n"
     ]
    },
    {
     "name": "stdout",
     "output_type": "stream",
     "text": [
      "----------------- TOP 60 SENTENCES -----------------\n",
      "At some point, we tried to raise more money and you know, the investor was like the entire natural deodorant industry is something like $30 million a year. And the tactics that he shared are actually quite insightful. So I'm in New York city running another e-commerce business. I've lived in the same place for like four years. And, you know, I'm an attorney, I'm not a dumb guy. And what it does is aluminum acts as like a plug to block your sweat glands from excluding sweat. And so that, that was like the Genesis of like, okay, look, we think we can create a deodorant that does the job of an, a. Antiperspirant the other way I thought about it was look like a lot of us work in office environments, where we commute in a car, we get to an office, we sit at a desk and work at a computer and, you know, using an antiperspirant everyday. And this was in 2015, you know, like today there's a new, natural theater at the lunches every day in 2015. And she's like, we're going to scale this business. I don't really want to be making these deodorants in my apartment. So as you guys know, this podcast is published by the hustle. So that's my genuine recommendation for hustle con. And I'd been sending out samples to people and saying like, you know, our best customers who are like communicating with me and I'd be like, Hey, what do you think of this formula? Like the science that I was supposed to do. It sounds like it really paid off that you weren't just using a Chinese manufacturer. All of our deodorants are made in the United States, uh, for two reasons, one you're right. So like, you know, when we give them a purchase order, they're able to make it much faster. And we're going to jump back into the story, but one more tactical piece. So this must have been kind of unusual for people, I guess. If you buy directly from us, we were following up with every customer. And as a result, it must be that that's the formula that we sent to the Sams of the world are better. And so that's how we AB test formula change. We're either going to refund the customers and close the business or do something. Like, you know, deodorant's not something you can really go without like, you know, like toothpaste, I need this. Just me at the company I'm doing with customer service have a really good idea of what the problems are at the company doing the operation. You know, they hear you say we're only at a hundred thousand a month in revenue. I would want to maximize these sort of earnings per capita in my company. And the customer service inquiries have gotten to be even more than she can. Sir, we hired another person, a third, uh, the third person to join the team and he's doing customer service. I guess really what happened is by the time people started asking that question, I was like, I was like, we're doing a million dollars a month. Why, why decide to sell when things are sort of when the going is good and I'm going to ask you how you sold it. I went out to meet with them and you know, they're like, okay, great. And I was like, No, uh, I'm not going through this again. Um, this is like, you know, look, there are so many different emotions that happen all the time when you're trying to sell a business. Or, Oh, like, they're like, yeah, we're interested in this business. Yeah, I'm not sure if they have the roses or I have the roses. I still don't know, but yeah, we invite them all to the party and they're here and they're like, you know, I talked to them, uh, and like, you know, businesses send out like some businesses will send out one guy. And so, so we go through this process with a bunch of these guys, and then what we say is like, look here, look, if you're still interested in this business, here's all the data, here's all the diligence that you need in the business. This is the first acquisition they're making in 10 years. Like I know how, you know, Unilever operates and I know how these private equity firms operate, but P and G nobody's seen them in the world in 10 years, Agra, just to do a deal like this. Look, you know, there are, there are times where I'm like, okay, look the month, a month closes. And two, I remember one guy who, who was like the CEO of the company was like, you know, trying to judge my marketing ability. But, uh, these are the crazy stories that happen at the end of the deal or, you know, right. Cause like, uh, I never felt it wasn't a, we with my investors, like they were all like super happy and super excited about getting the deal done. Like, you know, you know that you're doing this and I know that you're doing this right. And so I tweeted it and I was like, If you're wondering when I decided to destroy your business, it was when you sent me this letter, like before I was like, you know, you guys are a Nat, uh, and I don't care about your tiny business and I'll let you exist. Where did that strategy or mindset come from? Like competitiveness with him or I think it came from him. Why did the first acquire or not end up buying you? This brand is not going to have any legs and no one's going to care without influencer advertising. I'm like, I know what's working in my company. Like tell us you started balling out of control a little bit. We'd go to this like Thai restaurant for dinner, which is really fun, but like, what's shocking is like how little life has changed. Yeah, I do this, this and this, this change. I'm taking the $22 one because I want shrimp tonight. And that's like an amazing, amazing high. I would say, look, look e-commerce is amazing. Now I'm trying to sell something like a, you know, deodorant, right? Like, you know, I love when people have gotten skin in the game.\n",
      "----------------------------------------------------\n",
      "Exception in extracted_text_to_output()\n"
     ]
    },
    {
     "name": "stderr",
     "output_type": "stream",
     "text": [
      "Traceback (most recent call last):\n",
      "  File \"<ipython-input-14-9ba77870bbc0>\", line 23, in extracted_text_to_output\n",
      "    start_ip_time = input_times_list[start_word_index].split(time_delimiter)[0].strip()\n",
      "IndexError: list index out of range\n"
     ]
    },
    {
     "name": "stdout",
     "output_type": "stream",
     "text": [
      "----------------- TOP 70 SENTENCES -----------------\n",
      "At some point, we tried to raise more money and you know, the investor was like the entire natural deodorant industry is something like $30 million a year. But because he is a very entertaining guy, very charismatic. So I'm in New York city running another e-commerce business. And it'll be on my body for 23 hours and 45 minutes for the next 60 years, I should at least be able to pronounce some of the ingredients in this thing. And what it does is aluminum acts as like a plug to block your sweat glands from excluding sweat. Cause I don't think that that's necessarily the case. Bought the name in July, 2015, basically 12 days later launched the business. I'm not sure if it's my personal body chemistry or what it is, but yeah, w we were testing natural deodorants left and right from Etsy. I started contacting all these like reporters and I'm like, Hey, do you want to write it out native? And this was in 2015, you know, like today there's a new, natural theater at the lunches every day in 2015. We're basically one of the few guys out there. And she's like, we're going to scale this business. I don't really want to be making these deodorants in my apartment. We'd go to like the Dominican Republic or something. And the meantime I'm like Googling and I'm like, okay, Who makes deodorants, like I've got a formula I want to make. If you're thinking about starting an idea, A business or you are, you want to do that someday, or you're doing it right now, either way, listening to speakers, tell their stories, being in the audience, amongst a bunch of other like-minded people that is a really, really good way to get amongst it. So that's my genuine recommendation for hustle con. Let me give this to you guys so that you can get a discount. I want to have another meeting because I think there's a problem with the deodorants. And you're not a scientist or biochemists. Uh, customers will even like do diagnoses and they're like, Hey, I think it's because of this. It sounds like it really paid off that you weren't just using a Chinese manufacturer. When you, when I build, I build products that are like software and software, it's pretty easy to iterate. Tactically about how you iterate with a physical product. The Sams of the world are buying again more frequently than the Sean's of the world. Cause like we have this direct relationship with consumers that allows us to monitor, repeat purchase rates and have a direct line of communication with them. We're getting into the weeds as much as possible. We're either going to close this business or switch formulas, let's switch formulas and see what happens. Just me at the company I'm doing with customer service have a really good idea of what the problems are at the company doing the operation. Uh, I was not, uh, you know, in Silicon Valley, there's a lot of people that whole thing to do is say, I'm here to change the world. We sold that business for a seven figure sum. And what does that mean for a deodorant business? Where you break even where you're better than that? And there's not a whole bunch of other examples. So like a few months after we started and then another $250,000 in about April of 26, and this was friends and family, or this was, these were both outside investors that I had just met. And so we're like, you know, we've got some cash, but not a ton of cash. So we've basically doubled the business between may and June. And by like, you know, by November, 2016, we're doing a million dollars a month. So obviously the product is getting better, but is it just, is it just like that it's a million little things getting better or was there a breakthrough or a. Point of emphasis that really was highlighted. We're spending more on ads because we understand product market fit. Cause how many mattresses is someone going to buy it? But like when you're selling a consumable bite, like deodorant, the whole point is that people are brand loyal. I guess really what happened is by the time people started asking that question, I was like, I was like, we're doing a million dollars a month. But I do remember, like we had this one question from an investor. And we're just like, I think this is a product that people want and need. Taking a shot every time you say customer service, they're dead. Amazon has this phrase, you know, customer obsessed is what Jeff Bezos says. I think this is like, you know, this isn't serious. Yeah, I'm not sure if they have the roses or I have the roses. I still don't know, but yeah, we invite them all to the party and they're here and they're like, you know, I talked to them, uh, and like, you know, businesses send out like some businesses will send out one guy. And did you, what did you internally, what did you internally think about this? Look, you know, there are, there are times where I'm like, okay, look the month, a month closes. And I'm just like, we generated, you know, 4 million in revenue this year, this month add another zero to that price buddy, add two more zeros. And like, you know, during diligence, people are asking for random, there was one company that asked for every email that we had ever sent out. It's not real until the deal almost falls through. Cause like, uh, I never felt it wasn't a, we with my investors, like they were all like super happy and super excited about getting the deal done. I will publicly write the wrong for the next 50 years. And so I tweeted it and I was like, If you're wondering when I decided to destroy your business, it was when you sent me this letter, like before I was like, you know, you guys are a Nat, uh, and I don't care about your tiny business and I'll let you exist. But if he's got it himself, for sure, I love it. And they're like, this is how it's going to be post acquisition. Is this just like your marketing genius or what, what is it? Maybe I should buy the, you know, coconut and vanilla. I was like, we turned your 50 K to a million dollars. Like the journey of like friendships I made with all the employees that I have and like a bunch of like most of the team is still there. And I was like, you know, if a bus hits me on the way to work, I'm still going to get to work. And like, you know, now when I go to restaurants, like one of the best thing is I'm just like. If you were 21 today, starting from scratch. Like, you know, I love when people have gotten skin in the game. I'm like, look, if you're thinking about doing this, quit your job.\n",
      "----------------------------------------------------\n",
      "Exception in extracted_text_to_output()\n"
     ]
    },
    {
     "name": "stderr",
     "output_type": "stream",
     "text": [
      "Traceback (most recent call last):\n",
      "  File \"<ipython-input-14-9ba77870bbc0>\", line 23, in extracted_text_to_output\n",
      "    start_ip_time = input_times_list[start_word_index].split(time_delimiter)[0].strip()\n",
      "IndexError: list index out of range\n"
     ]
    },
    {
     "name": "stdout",
     "output_type": "stream",
     "text": [
      "----------------- TOP 80 SENTENCES -----------------\n",
      "At some point, we tried to raise more money and you know, the investor was like the entire natural deodorant industry is something like $30 million a year. So why would anyone be interested in investing in a category that only has $30 million a year run rates? And so he sold it two and a half years later to Proctor and gamble for a hundred million dollars. But because he is a very entertaining guy, very charismatic. So where are you when you have the idea for native deodorant? And so I'm really familiar with this place. And so that, that was like the Genesis of like, okay, look, we think we can create a deodorant that does the job of an, a. Antiperspirant the other way I thought about it was look like a lot of us work in office environments, where we commute in a car, we get to an office, we sit at a desk and work at a computer and, you know, using an antiperspirant everyday. Cause I don't think that that's necessarily the case. Bought the name in July, 2015, basically 12 days later launched the business. But initially I was like, look, I don't think this business will work out. Um, so does my sister cause she's pregnant. I get a bunch of crinkle paper delivered to the house with wonderful is my brother is the messiest. And this was in 2015, you know, like today there's a new, natural theater at the lunches every day in 2015. I used to be selling products at a farmer's market, and now I'm making 500 dealers for you a week. We're both gonna like, hit home runs with this business. And so I'm like, okay, maybe this business is over. And, you know, she's like, okay, that sounds fair and reasonable. Quick break in the action to talk about hustle con. Let me give this to you guys so that you can get a discount. My first million, all caps, all one word again. I'm not going to like, uh, you know, bankrupt the business. I rent a Zipcar and I go over there and I'm just looking at our deodorants. Cause that's like a, you know, we're not, we're not doing a ton of sales. Like, you know, we, we moved to a new manufacturer. Over the course of the last eight months since this, or like last four months, since this woman had been making deodorant for me, like we'd gotten a lot of customer feedback basically saying our formula was kind of mediocre. And so for a while, we've been attempting to make a better deodorant, like a better formula. Solomon's like, you're running the washer and dryer every day. Like whenever I listen to a guest, tell the stories, I think to myself, Could I do this business. And in the next six months, I will be an expert on deodorant. It sounds like it really paid off that you weren't just using a Chinese manufacturer. It allows us to have a really flexible supply chain two. Great the day I go over there and terrible the next day. And we're going to jump back into the story, but one more tactical piece. So this must have been kind of unusual for people, I guess. That's milled to another particle size and we'll, we'll monitor your reviews six weeks after you purchase and your repeat purchase rates 12 weeks after you purchase and say, you know what? And as a result, it must be that that's the formula that we sent to the Sams of the world are better. But we're doing like tiny changes, like, you know, like changes that wouldn't even influence the ingredient tackle that we're like, Hey look, do you think we should put in, you know, Uh, 1% of this ingredient or 1.05% of this to see what's better. We're getting into the weeds as much as possible. Number two, definitely take it from there. We're either going to close this business or switch formulas, let's switch formulas and see what happens. Like, you know, deodorant's not something you can really go without like, you know, like toothpaste, I need this. Just me at the company I'm doing with customer service have a really good idea of what the problems are at the company doing the operation. Uh, I was not, uh, you know, in Silicon Valley, there's a lot of people that whole thing to do is say, I'm here to change the world. I would want to maximize these sort of earnings per capita in my company. And so we're like, you know, we've got some cash, but not a ton of cash. So we go from a hundred K in like may to a million in November. And you know, I have no idea what our business will look like a year from now. Business to grow from that a hundred K a month to a million a month. If I was selling Casper mattresses, I would be concerned about new customer acquisition. And so for me, I was like, look, we have to find like, if we're producing a deodorant, we need to make sure that people love it. I guess really what happened is by the time people started asking that question, I was like, I was like, we're doing a million dollars a month. Amazon has this phrase, you know, customer obsessed is what Jeff Bezos says. But also right when you sign up, you get a funny email from you guys, like talk about some of the things you guys have done on the customer service or customer obsessed side. Send us all of your financials and your information. They don't even reply back for like 90 days afterwards. Uh, maybe the, Oh, you know, the right person internally was like, we don't really care about this business. And then what you do is you say, you know what? Yeah, I'm not sure if they have the roses or I have the roses. Your competitors are selling for $5 a target. You know, they're just like, uh, so, so you're up at 2:00 AM preparing these things for them. They say something and you in your head, you're like, this is the moment I need to say something. And we were like negotiating with the person who owned the Mark simultaneously. These guys are not going to go away unless we do this. So, so this is actually that, that mindset your brother has told me about this. And so I tweeted it and I was like, If you're wondering when I decided to destroy your business, it was when you sent me this letter, like before I was like, you know, you guys are a Nat, uh, and I don't care about your tiny business and I'll let you exist. Where did that strategy or mindset come from? And so that was, that gave me a lot of comfort going into the deal. Is this just like your marketing genius or what, what is it? Maybe I should buy the, you know, coconut and vanilla. This brand is not going to have any legs and no one's going to care without influencer advertising. I'm like, I know what's working in my company. We're going to double down on that instead of doing anything that you suggest. And it's hard, like, you know, for us, we had a great safety net of like a success already or like momentum. Like tell us you started balling out of control a little bit. I was like, we turned your 50 K to a million dollars. And I was like, wow, these people like care, understand the business and want to make sure. If you were 21 today, what business would you want to go start? I would say, look, look e-commerce is amazing. If you don't have any resources and don't have any technical knowledge, you can still do. But if you're in and you're like starting a business and it's got some traction and you're like, Hey, how do I start scaling this?\n",
      "----------------------------------------------------\n",
      "Exception in extracted_text_to_output()\n"
     ]
    },
    {
     "name": "stderr",
     "output_type": "stream",
     "text": [
      "Traceback (most recent call last):\n",
      "  File \"<ipython-input-14-9ba77870bbc0>\", line 23, in extracted_text_to_output\n",
      "    start_ip_time = input_times_list[start_word_index].split(time_delimiter)[0].strip()\n",
      "IndexError: list index out of range\n"
     ]
    },
    {
     "name": "stdout",
     "output_type": "stream",
     "text": [
      "----------------- TOP 90 SENTENCES -----------------\n",
      "At some point, we tried to raise more money and you know, the investor was like the entire natural deodorant industry is something like $30 million a year. So why would anyone be interested in investing in a category that only has $30 million a year run rates? He is the founder of native deodorant, which is a natural deodorant brand. And so he sold it two and a half years later to Proctor and gamble for a hundred million dollars. And the tactics that he shared are actually quite insightful. I've lived in the same place for like four years. Aluminum is probably the largest thing that we're like, people are concerned about when it comes to the deodorant category. I don't want to take a pill to stop going to the bathroom. Aluminum free deodorant will do the job for you. And so you say we, but at the beginning it was just you correct? It was like, And, you know, we had gotten financial product. So I started testing every deodorant I could find, I tested like the Tom's remains of the world, the Schmidts of the world, the, uh, you know, the Etsy deodorants of the world. And so we're shipping these boxes out, we shipped 60 out and then sales start dropping because you know, we're off the product hunt and I'm like, okay. She'd be like, go quit this business tomorrow. I used to be selling products at a farmer's market, and now I'm making 500 dealers for you a week. And she's like, we're going to scale this business. So when I went under, we work was talking at the, let me look at the list for this year, hymns, the founder of Madison Reed, Strava calm method, and Ali lime, a bunch of CEOs and founders of multi-billion dollar companies and startups that come on stage and share insights about how they did what they did, how they got started and how SoCon is very different than a normal conference. So they are not only sharing good insights on the stage, but you get to meet them afterwards. In fact, I'm bringing out the editor of this podcast to come because I just think it's a really great opportunity. If you're thinking about starting an idea, A business or you are, you want to do that someday, or you're doing it right now, either way, listening to speakers, tell their stories, being in the audience, amongst a bunch of other like-minded people that is a really, really good way to get amongst it. So that's my genuine recommendation for hustle con. Let me give this to you guys so that you can get a discount. He gave, it was like an hour long conversation and I probably said five words. We're probably doing around, uh, 75 K in revenue a month and things are starting to scale well, wow. I rent a Zipcar and I go over there and I'm just looking at our deodorants. And I'm like, okay, well maybe this business is over again. Like, you know, we, we moved to a new manufacturer. So like our one I'm like, forget this business hour too. It sounds like it really paid off that you weren't just using a Chinese manufacturer. Great the day I go over there and terrible the next day. And the beginning, what we do is we send out samples to our best customers who would like were vocal and be like, Hey, I love your deodorant. I was like, this is version seven of the deodorant. If you like it, leave a review on our website. That's kind of amazing is that standard, cause I've never heard. Cause like we have this direct relationship with consumers that allows us to monitor, repeat purchase rates and have a direct line of communication with them. And so that's how we AB test formula change. So we switched formula basically because we have to, we think it's supposed to be better. Like, you know, deodorant's not something you can really go without like, you know, like toothpaste, I need this. You know, they hear you say we're only at a hundred thousand a month in revenue. And what does that mean for a deodorant business? And there's not a whole bunch of other examples. And so we're like, you know, we've got some cash, but not a ton of cash. Like, you know, it's just taking up so much of my time. Sir, we hired another person, a third, uh, the third person to join the team and he's doing customer service. And I was like, great, this is wonderful. Business to grow from that a hundred K a month to a million a month. Did you guys, obviously the formula is getting better. It's a lot easier to have word of mouth when you're doing 250 K 500 a month. They're not, I mean, what's the, I almost don't even think about it. I guess really what happened is by the time people started asking that question, I was like, I was like, we're doing a million dollars a month. Amazon has this phrase, you know, customer obsessed is what Jeff Bezos says. But also right when you sign up, you get a funny email from you guys, like talk about some of the things you guys have done on the customer service or customer obsessed side. Now you're doing a million dollars a month. They don't even reply back for like 90 days afterwards. Um, this is like, you know, look, there are so many different emotions that happen all the time when you're trying to sell a business. I still don't know, but yeah, we invite them all to the party and they're here and they're like, you know, I talked to them, uh, and like, you know, businesses send out like some businesses will send out one guy. Like I know how, you know, Unilever operates and I know how these private equity firms operate, but P and G nobody's seen them in the world in 10 years, Agra, just to do a deal like this. We're letting everyone come in with beds. Look, you know, there are, there are times where I'm like, okay, look the month, a month closes. We send out millions of emails a month and you want this from the beginning of the time that we launched the business. These guys are not going to go away unless we do this. Cause like, uh, I never felt it wasn't a, we with my investors, like they were all like super happy and super excited about getting the deal done. I will publicly write the wrong for the next 50 years. I'll give you an example right now, this company called, they said no to us. And so I tweeted it and I was like, If you're wondering when I decided to destroy your business, it was when you sent me this letter, like before I was like, you know, you guys are a Nat, uh, and I don't care about your tiny business and I'll let you exist. But if he's got it himself, for sure, I love it. How did it feel and where are you guys at now? And they're like, this is how it's going to be post acquisition. This is how we're thinking about the business. And so that was, that gave me a lot of comfort going into the deal. And we haven't even been there for 52 weeks. You don't have to go through the entire deodorant stick before you can get rid of it in the same way that you're not like if you open up a diet Coke, cause you want to like treat yourself, you don't have to drink the whole thing. And then you're like, this was a great deodorant. So people PR so you can prove this as a repeatable model. Do you have, do you have a few moments today? I'm gonna go back to them and show them this deal. It's like the people that work there and how devoted they are to the business. Like, you know, we have this contest internally to make another email funny and very human. I have no idea how they were motivated to do that and they're that way. And like, that's definitely something I do. If you were 21 today, what business would you want to go start? I would say, look, look e-commerce is amazing. Everything is really cheap out of the gate. And you will find something that works like, you know, even if you have to like go through a bunch of products and you're like, you know what? I don't have a direct line of communication with people who use my product every day. And I'm listening to this and I'm like, this guy is awesome. I'm like, look, if you're thinking about doing this, quit your job. But if you're in and you're like starting a business and it's got some traction and you're like, Hey, how do I start scaling this? This, this is what I like to do on the weekends.\n",
      "----------------------------------------------------\n",
      "Exception in extracted_text_to_output()\n"
     ]
    },
    {
     "name": "stderr",
     "output_type": "stream",
     "text": [
      "Traceback (most recent call last):\n",
      "  File \"<ipython-input-14-9ba77870bbc0>\", line 23, in extracted_text_to_output\n",
      "    start_ip_time = input_times_list[start_word_index].split(time_delimiter)[0].strip()\n",
      "IndexError: list index out of range\n"
     ]
    },
    {
     "name": "stdout",
     "output_type": "stream",
     "text": [
      "----------------- TOP 100 SENTENCES -----------------\n",
      "At some point, we tried to raise more money and you know, the investor was like the entire natural deodorant industry is something like $30 million a year. So why would anyone be interested in investing in a category that only has $30 million a year run rates? And I was like, if the natural deodorant industry is $30 million a year where the entire natural deodorant, we're doing $30 million a year at this point, Okay. And the tactics that he shared are actually quite insightful. So where are you when you have the idea for native deodorant? And you know, I've been seeing this problem for the last four years since I've been buying the deodorant from Dwayne Reed. And it'll be on my body for 23 hours and 45 minutes for the next 60 years, I should at least be able to pronounce some of the ingredients in this thing. And then my sister gets pregnant and she's telling me how she's using dove. And what it does is aluminum acts as like a plug to block your sweat glands from excluding sweat. And so that's the way I thought about sweating. And so that, that was like the Genesis of like, okay, look, we think we can create a deodorant that does the job of an, a. Antiperspirant the other way I thought about it was look like a lot of us work in office environments, where we commute in a car, we get to an office, we sit at a desk and work at a computer and, you know, using an antiperspirant everyday. Generally they're buying a Duane Reades and Walmarts and targets. I put it on product hunt, product hunt has multiple pages. And what was the little tagline at that time? Um, so does my sister cause she's pregnant. I'm not sure if it's my personal body chemistry or what it is, but yeah, w we were testing natural deodorants left and right from Etsy. And so we're shipping these boxes out, we shipped 60 out and then sales start dropping because you know, we're off the product hunt and I'm like, okay. I had the click-through rate, the CPA, the return on investment. And I started doing that every day, starting, you know, probably, uh, August, 2015, or maybe September, 2015. And she's like, we're going to scale this business. And so I'm like, okay, maybe this business is over. So that's my genuine recommendation for hustle con. Let me give this to you guys so that you can get a discount. My first million, all caps, all one word again. You got to figure out your travel to get there, but I'll buy your tickets to the conference itself. He gave, it was like an hour long conversation and I probably said five words. I'm not going to like, uh, you know, bankrupt the business. I rent a Zipcar and I go over there and I'm just looking at our deodorants. And you're like, wait, I I'm better than this. And so, you know, look what had been happening is that okay. And so for a while, we've been attempting to make a better deodorant, like a better formula. Solomon's like, you're running the washer and dryer every day. You found a manufacturer just by Googling who the heck makes deodorant. It sounds like it really paid off that you weren't just using a Chinese manufacturer. It allows us to have a really flexible supply chain two. Great the day I go over there and terrible the next day. When you, when I build, I build products that are like software and software, it's pretty easy to iterate. If you like it, leave a review on our website. And if you hate it, Please reply back to this email. And so that's how we AB test formula change. Therefore we believe this formula is that's exactly right. We're getting into the weeds as much as possible. Um, you know, six weeks later, we'll start seeing repeat purchase rates. And there's not a whole bunch of other examples. And even on Pinterest, we're seeing a good return on investment. I would want to maximize these sort of earnings per capita in my company. Because you're doing it as a one man show one. And so we're like, you know, we've got some cash, but not a ton of cash. And Michael Scott, you were Dwight on Sam, you were Daryl in the warehouse. And you know, I have no idea what our business will look like a year from now. Business to grow from that a hundred K a month to a million a month. Tell you, Hey, repeat purchase rate is the thing to key in on, I think for like, uh, it depends on the product you're in. Cause how many mattresses is someone going to buy it? They're not, I mean, what's the, I almost don't even think about it. I guess really what happened is by the time people started asking that question, I was like, I was like, we're doing a million dollars a month. And we're just like, I think this is a product that people want and need. Now you're doing a million dollars a month. Just give me a heads up because you know, at this point, uh, you know, we've started a process and we're talking to a bunch of other parties. But just radio, silence, like being ghosted from an ex or from like a, you know, a Tinder date is what's happening and where they, you think they were just picking your brain to get the numbers from you. Uh, maybe the, Oh, you know, the right person internally was like, we don't really care about this business. We send it out to a bunch of potential acquirers. Let's let you know, probably 120 pages long. And so on, like the bachelor you're, you're sitting there with the batch of the roses and you're you invite them all to the. Yeah, I'm not sure if they have the roses or I have the roses. Do you know how to make other products with the word native on them, help us do that. And so like a couple of guys are like, you know what? And did you, what did you internally, what did you internally think about this? You know, are you dreaming about a certain number? Look, you know, there are, there are times where I'm like, okay, look the month, a month closes. And I'm just like, we generated, you know, 4 million in revenue this year, this month add another zero to that price buddy, add two more zeros. And two, I remember one guy who, who was like the CEO of the company was like, you know, trying to judge my marketing ability. Uh, and as like, I know that, uh, like I was like, this is one of those things where you think either I'm intelligent or I'm an idiot. These guys are not going to go away unless we do this. Cause like, uh, I never felt it wasn't a, we with my investors, like they were all like super happy and super excited about getting the deal done. So I don't know who those investors are, do, Michael, but he, I hope he should mention their name. And like, you know, in the last six months, I don't even remember what, but they invest in a refillable theater company and I'm like, well, I see that you're doing a refillable deodorant now. And so I tweeted it and I was like, If you're wondering when I decided to destroy your business, it was when you sent me this letter, like before I was like, you know, you guys are a Nat, uh, and I don't care about your tiny business and I'll let you exist. You know, uh, we, we go after them 10 times harder, you know, like, uh, Donald Trump has always like, we're building this wall 10 feet higher. But if he's got it himself, for sure, I love it. How did it feel and where are you guys at now? Why did the first acquire or not end up buying you? They were like, you know, they came out to San Francisco. And they're like, this is how it's going to be post acquisition. This is how we're thinking about the business. Native coconut and vanilla is the bestselling name, uh, deodorant skew at target over the last 52 weeks. And we haven't even been there for 52 weeks. Is this just like your marketing genius or what, what is it? What do you think is the message for the next you who maybe doesn't have the sort of. This brand is not going to have any legs and no one's going to care without influencer advertising. And for me, like, Well, it gave me a lot of confidence was, you know, things were working early on. I was like, we turned your 50 K to a million dollars. And like my family's in town to help celebrate, which is really fun. And like one of the things I realized afterwards, cause you know, all these people are like, Oh, being ready, which is not that great. It's like the people that work there and how devoted they are to the business. And I was like, wow, these people like care, understand the business and want to make sure. And like, that's definitely something I do. If you were 21 today, starting from scratch. I would say, look, look e-commerce is amazing. Everything is really cheap out of the gate. This, this is what I like to do on the weekends.\n",
      "----------------------------------------------------\n",
      "Exception in extracted_text_to_output()\n"
     ]
    },
    {
     "name": "stderr",
     "output_type": "stream",
     "text": [
      "Traceback (most recent call last):\n",
      "  File \"<ipython-input-14-9ba77870bbc0>\", line 23, in extracted_text_to_output\n",
      "    start_ip_time = input_times_list[start_word_index].split(time_delimiter)[0].strip()\n",
      "IndexError: list index out of range\n"
     ]
    }
   ],
   "source": [
    "num_sentences_list = [10,15,20,25,30,35,40,45,50,60,70,80,90,100]\n",
    "\n",
    "ip_file = 'data/podcast__transcription_test.srt'\n",
    "\n",
    "for num_sentences in num_sentences_list:\n",
    "    \n",
    "    op_file = ip_file.split('.')[0] + '_op_' + str(num_sentences) + '.txt'\n",
    "    \n",
    "    # print('START ---', op_file)\n",
    "    extract(ip_file, op_file, num_sentences)\n",
    "    # print('END ---', op_file)"
   ]
  },
  {
   "cell_type": "code",
   "execution_count": null,
   "id": "regulation-governor",
   "metadata": {},
   "outputs": [],
   "source": []
  }
 ],
 "metadata": {
  "kernelspec": {
   "display_name": "podcast",
   "language": "python",
   "name": "podcast"
  },
  "language_info": {
   "codemirror_mode": {
    "name": "ipython",
    "version": 3
   },
   "file_extension": ".py",
   "mimetype": "text/x-python",
   "name": "python",
   "nbconvert_exporter": "python",
   "pygments_lexer": "ipython3",
   "version": "3.6.9"
  }
 },
 "nbformat": 4,
 "nbformat_minor": 5
}
